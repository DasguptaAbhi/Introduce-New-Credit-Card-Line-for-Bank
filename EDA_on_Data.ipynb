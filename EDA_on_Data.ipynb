{
 "cells": [
  {
   "cell_type": "markdown",
   "metadata": {},
   "source": [
    "## Mitron Bank New Credit Card Line Analysis"
   ]
  },
  {
   "cell_type": "markdown",
   "metadata": {},
   "source": [
    "### Mitron Bank is a legacy financial institution headquartered in Hyderabad. They want to introduce a new line of credit cards, aiming to broaden its product offerings and reach in the financial market."
   ]
  },
  {
   "cell_type": "markdown",
   "metadata": {},
   "source": [
    "### Try to Identify key Customer Segments that are Likely to be the Highest-Value Users of the `New Credit Cards`."
   ]
  },
  {
   "cell_type": "code",
   "execution_count": 1,
   "metadata": {},
   "outputs": [],
   "source": [
    "# import Library\n",
    "import numpy as np\n",
    "import pandas as pd\n",
    "import matplotlib.pyplot as plt\n",
    "plt.style.use(\"ggplot\")\n",
    "\n"
   ]
  },
  {
   "cell_type": "code",
   "execution_count": 2,
   "metadata": {},
   "outputs": [],
   "source": [
    "# uplode the csv dataset \n",
    "df_cust = pd.read_csv(\"dim_customers.csv\")\n",
    "df_spend = pd.read_csv(\"fact_spends.csv\")"
   ]
  },
  {
   "cell_type": "code",
   "execution_count": 3,
   "metadata": {},
   "outputs": [
    {
     "name": "stdout",
     "output_type": "stream",
     "text": [
      "<class 'pandas.core.frame.DataFrame'>\n",
      "RangeIndex: 4000 entries, 0 to 3999\n",
      "Data columns (total 7 columns):\n",
      " #   Column          Non-Null Count  Dtype \n",
      "---  ------          --------------  ----- \n",
      " 0   customer_id     4000 non-null   object\n",
      " 1   age_group       4000 non-null   object\n",
      " 2   city            4000 non-null   object\n",
      " 3   occupation      4000 non-null   object\n",
      " 4   gender          4000 non-null   object\n",
      " 5   marital status  4000 non-null   object\n",
      " 6   avg_income      4000 non-null   int64 \n",
      "dtypes: int64(1), object(6)\n",
      "memory usage: 218.9+ KB\n"
     ]
    }
   ],
   "source": [
    "df_cust.info()"
   ]
  },
  {
   "cell_type": "code",
   "execution_count": 4,
   "metadata": {},
   "outputs": [
    {
     "name": "stdout",
     "output_type": "stream",
     "text": [
      "<class 'pandas.core.frame.DataFrame'>\n",
      "RangeIndex: 864000 entries, 0 to 863999\n",
      "Data columns (total 5 columns):\n",
      " #   Column        Non-Null Count   Dtype \n",
      "---  ------        --------------   ----- \n",
      " 0   customer_id   864000 non-null  object\n",
      " 1   month         864000 non-null  object\n",
      " 2   category      864000 non-null  object\n",
      " 3   payment_type  864000 non-null  object\n",
      " 4   spend         864000 non-null  int64 \n",
      "dtypes: int64(1), object(4)\n",
      "memory usage: 33.0+ MB\n"
     ]
    }
   ],
   "source": [
    "df_spend.info()"
   ]
  },
  {
   "cell_type": "code",
   "execution_count": 5,
   "metadata": {},
   "outputs": [
    {
     "data": {
      "text/plain": [
       "(4000, 7)"
      ]
     },
     "execution_count": 5,
     "metadata": {},
     "output_type": "execute_result"
    }
   ],
   "source": [
    "df_cust.shape"
   ]
  },
  {
   "cell_type": "code",
   "execution_count": 6,
   "metadata": {},
   "outputs": [
    {
     "data": {
      "text/plain": [
       "(864000, 5)"
      ]
     },
     "execution_count": 6,
     "metadata": {},
     "output_type": "execute_result"
    }
   ],
   "source": [
    "df_spend.shape"
   ]
  },
  {
   "cell_type": "code",
   "execution_count": 7,
   "metadata": {},
   "outputs": [
    {
     "data": {
      "text/plain": [
       "0"
      ]
     },
     "execution_count": 7,
     "metadata": {},
     "output_type": "execute_result"
    }
   ],
   "source": [
    "df_cust.duplicated().sum()"
   ]
  },
  {
   "cell_type": "code",
   "execution_count": 8,
   "metadata": {},
   "outputs": [
    {
     "data": {
      "text/plain": [
       "customer_id       0\n",
       "age_group         0\n",
       "city              0\n",
       "occupation        0\n",
       "gender            0\n",
       "marital status    0\n",
       "avg_income        0\n",
       "dtype: int64"
      ]
     },
     "execution_count": 8,
     "metadata": {},
     "output_type": "execute_result"
    }
   ],
   "source": [
    "df_cust.isna().sum()"
   ]
  },
  {
   "cell_type": "code",
   "execution_count": 9,
   "metadata": {},
   "outputs": [
    {
     "data": {
      "text/plain": [
       "0"
      ]
     },
     "execution_count": 9,
     "metadata": {},
     "output_type": "execute_result"
    }
   ],
   "source": [
    "df_spend.duplicated().sum()"
   ]
  },
  {
   "cell_type": "code",
   "execution_count": 10,
   "metadata": {},
   "outputs": [
    {
     "data": {
      "text/plain": [
       "customer_id     0\n",
       "month           0\n",
       "category        0\n",
       "payment_type    0\n",
       "spend           0\n",
       "dtype: int64"
      ]
     },
     "execution_count": 10,
     "metadata": {},
     "output_type": "execute_result"
    }
   ],
   "source": [
    "df_spend.isna().sum()"
   ]
  },
  {
   "cell_type": "markdown",
   "metadata": {},
   "source": [
    "It Looks Like the dataset does not contane any null or missing Values\n"
   ]
  },
  {
   "cell_type": "markdown",
   "metadata": {},
   "source": [
    "## Analyszing\n"
   ]
  },
  {
   "cell_type": "code",
   "execution_count": 11,
   "metadata": {},
   "outputs": [
    {
     "data": {
      "text/html": [
       "<div>\n",
       "<style scoped>\n",
       "    .dataframe tbody tr th:only-of-type {\n",
       "        vertical-align: middle;\n",
       "    }\n",
       "\n",
       "    .dataframe tbody tr th {\n",
       "        vertical-align: top;\n",
       "    }\n",
       "\n",
       "    .dataframe thead th {\n",
       "        text-align: right;\n",
       "    }\n",
       "</style>\n",
       "<table border=\"1\" class=\"dataframe\">\n",
       "  <thead>\n",
       "    <tr style=\"text-align: right;\">\n",
       "      <th></th>\n",
       "      <th>customer_id</th>\n",
       "      <th>age_group</th>\n",
       "      <th>city</th>\n",
       "      <th>occupation</th>\n",
       "      <th>gender</th>\n",
       "      <th>marital status</th>\n",
       "      <th>avg_income</th>\n",
       "    </tr>\n",
       "  </thead>\n",
       "  <tbody>\n",
       "    <tr>\n",
       "      <th>0</th>\n",
       "      <td>ATQCUS1825</td>\n",
       "      <td>45+</td>\n",
       "      <td>Bengaluru</td>\n",
       "      <td>Salaried IT Employees</td>\n",
       "      <td>Male</td>\n",
       "      <td>Married</td>\n",
       "      <td>73523</td>\n",
       "    </tr>\n",
       "    <tr>\n",
       "      <th>1</th>\n",
       "      <td>ATQCUS0809</td>\n",
       "      <td>25-34</td>\n",
       "      <td>Hyderabad</td>\n",
       "      <td>Salaried Other Employees</td>\n",
       "      <td>Male</td>\n",
       "      <td>Married</td>\n",
       "      <td>39922</td>\n",
       "    </tr>\n",
       "    <tr>\n",
       "      <th>2</th>\n",
       "      <td>ATQCUS0663</td>\n",
       "      <td>25-34</td>\n",
       "      <td>Chennai</td>\n",
       "      <td>Salaried Other Employees</td>\n",
       "      <td>Male</td>\n",
       "      <td>Married</td>\n",
       "      <td>37702</td>\n",
       "    </tr>\n",
       "    <tr>\n",
       "      <th>3</th>\n",
       "      <td>ATQCUS0452</td>\n",
       "      <td>25-34</td>\n",
       "      <td>Delhi NCR</td>\n",
       "      <td>Government Employees</td>\n",
       "      <td>Male</td>\n",
       "      <td>Married</td>\n",
       "      <td>54090</td>\n",
       "    </tr>\n",
       "    <tr>\n",
       "      <th>4</th>\n",
       "      <td>ATQCUS3350</td>\n",
       "      <td>21-24</td>\n",
       "      <td>Bengaluru</td>\n",
       "      <td>Freelancers</td>\n",
       "      <td>Male</td>\n",
       "      <td>Single</td>\n",
       "      <td>28376</td>\n",
       "    </tr>\n",
       "  </tbody>\n",
       "</table>\n",
       "</div>"
      ],
      "text/plain": [
       "  customer_id age_group       city                occupation gender  \\\n",
       "0  ATQCUS1825       45+  Bengaluru     Salaried IT Employees   Male   \n",
       "1  ATQCUS0809     25-34  Hyderabad  Salaried Other Employees   Male   \n",
       "2  ATQCUS0663     25-34    Chennai  Salaried Other Employees   Male   \n",
       "3  ATQCUS0452     25-34  Delhi NCR      Government Employees   Male   \n",
       "4  ATQCUS3350     21-24  Bengaluru               Freelancers   Male   \n",
       "\n",
       "  marital status  avg_income  \n",
       "0        Married       73523  \n",
       "1        Married       39922  \n",
       "2        Married       37702  \n",
       "3        Married       54090  \n",
       "4         Single       28376  "
      ]
     },
     "execution_count": 11,
     "metadata": {},
     "output_type": "execute_result"
    }
   ],
   "source": [
    "df_cust.head(5)"
   ]
  },
  {
   "cell_type": "code",
   "execution_count": 12,
   "metadata": {},
   "outputs": [
    {
     "data": {
      "text/html": [
       "<div>\n",
       "<style scoped>\n",
       "    .dataframe tbody tr th:only-of-type {\n",
       "        vertical-align: middle;\n",
       "    }\n",
       "\n",
       "    .dataframe tbody tr th {\n",
       "        vertical-align: top;\n",
       "    }\n",
       "\n",
       "    .dataframe thead th {\n",
       "        text-align: right;\n",
       "    }\n",
       "</style>\n",
       "<table border=\"1\" class=\"dataframe\">\n",
       "  <thead>\n",
       "    <tr style=\"text-align: right;\">\n",
       "      <th></th>\n",
       "      <th>customer_id</th>\n",
       "      <th>month</th>\n",
       "      <th>category</th>\n",
       "      <th>payment_type</th>\n",
       "      <th>spend</th>\n",
       "    </tr>\n",
       "  </thead>\n",
       "  <tbody>\n",
       "    <tr>\n",
       "      <th>0</th>\n",
       "      <td>ATQCUS1371</td>\n",
       "      <td>July</td>\n",
       "      <td>Health &amp; Wellness</td>\n",
       "      <td>Credit Card</td>\n",
       "      <td>1114</td>\n",
       "    </tr>\n",
       "    <tr>\n",
       "      <th>1</th>\n",
       "      <td>ATQCUS0368</td>\n",
       "      <td>October</td>\n",
       "      <td>Groceries</td>\n",
       "      <td>Credit Card</td>\n",
       "      <td>1466</td>\n",
       "    </tr>\n",
       "    <tr>\n",
       "      <th>2</th>\n",
       "      <td>ATQCUS0595</td>\n",
       "      <td>May</td>\n",
       "      <td>Health &amp; Wellness</td>\n",
       "      <td>Credit Card</td>\n",
       "      <td>387</td>\n",
       "    </tr>\n",
       "    <tr>\n",
       "      <th>3</th>\n",
       "      <td>ATQCUS0667</td>\n",
       "      <td>October</td>\n",
       "      <td>Electronics</td>\n",
       "      <td>Credit Card</td>\n",
       "      <td>1137</td>\n",
       "    </tr>\n",
       "    <tr>\n",
       "      <th>4</th>\n",
       "      <td>ATQCUS3477</td>\n",
       "      <td>September</td>\n",
       "      <td>Bills</td>\n",
       "      <td>UPI</td>\n",
       "      <td>2102</td>\n",
       "    </tr>\n",
       "  </tbody>\n",
       "</table>\n",
       "</div>"
      ],
      "text/plain": [
       "  customer_id      month           category payment_type  spend\n",
       "0  ATQCUS1371       July  Health & Wellness  Credit Card   1114\n",
       "1  ATQCUS0368    October          Groceries  Credit Card   1466\n",
       "2  ATQCUS0595        May  Health & Wellness  Credit Card    387\n",
       "3  ATQCUS0667    October        Electronics  Credit Card   1137\n",
       "4  ATQCUS3477  September              Bills          UPI   2102"
      ]
     },
     "execution_count": 12,
     "metadata": {},
     "output_type": "execute_result"
    }
   ],
   "source": [
    "df_spend.head(5)"
   ]
  },
  {
   "cell_type": "markdown",
   "metadata": {},
   "source": [
    "Classify the customers based on available demography such as age group, gender, occupation"
   ]
  },
  {
   "cell_type": "code",
   "execution_count": 13,
   "metadata": {},
   "outputs": [
    {
     "data": {
      "text/plain": [
       "city\n",
       "Mumbai       1078\n",
       "Chennai       834\n",
       "Bengaluru     751\n",
       "Delhi NCR     744\n",
       "Hyderabad     593\n",
       "Name: customer_id, dtype: int64"
      ]
     },
     "execution_count": 13,
     "metadata": {},
     "output_type": "execute_result"
    }
   ],
   "source": [
    "# Count Of Customer ciyt wise\n",
    "df_cust.groupby(\"city\")[\"customer_id\"].count().sort_values(ascending=False) "
   ]
  },
  {
   "cell_type": "code",
   "execution_count": 14,
   "metadata": {},
   "outputs": [
    {
     "data": {
      "text/html": [
       "<div>\n",
       "<style scoped>\n",
       "    .dataframe tbody tr th:only-of-type {\n",
       "        vertical-align: middle;\n",
       "    }\n",
       "\n",
       "    .dataframe tbody tr th {\n",
       "        vertical-align: top;\n",
       "    }\n",
       "\n",
       "    .dataframe thead th {\n",
       "        text-align: right;\n",
       "    }\n",
       "</style>\n",
       "<table border=\"1\" class=\"dataframe\">\n",
       "  <thead>\n",
       "    <tr style=\"text-align: right;\">\n",
       "      <th></th>\n",
       "      <th>gender</th>\n",
       "      <th>marital status</th>\n",
       "      <th>customer_id</th>\n",
       "    </tr>\n",
       "  </thead>\n",
       "  <tbody>\n",
       "    <tr>\n",
       "      <th>0</th>\n",
       "      <td>Male</td>\n",
       "      <td>Married</td>\n",
       "      <td>2000</td>\n",
       "    </tr>\n",
       "    <tr>\n",
       "      <th>1</th>\n",
       "      <td>Female</td>\n",
       "      <td>Married</td>\n",
       "      <td>1136</td>\n",
       "    </tr>\n",
       "    <tr>\n",
       "      <th>2</th>\n",
       "      <td>Male</td>\n",
       "      <td>Single</td>\n",
       "      <td>597</td>\n",
       "    </tr>\n",
       "    <tr>\n",
       "      <th>3</th>\n",
       "      <td>Female</td>\n",
       "      <td>Single</td>\n",
       "      <td>267</td>\n",
       "    </tr>\n",
       "  </tbody>\n",
       "</table>\n",
       "</div>"
      ],
      "text/plain": [
       "   gender marital status  customer_id\n",
       "0    Male        Married         2000\n",
       "1  Female        Married         1136\n",
       "2    Male         Single          597\n",
       "3  Female         Single          267"
      ]
     },
     "execution_count": 14,
     "metadata": {},
     "output_type": "execute_result"
    }
   ],
   "source": [
    "# Number of customer based on Gender and Marital Status\n",
    "df_cust.groupby([\"gender\",\"marital status\"])[\"customer_id\"].count().sort_values(ascending=False).reset_index()"
   ]
  },
  {
   "cell_type": "code",
   "execution_count": 15,
   "metadata": {},
   "outputs": [
    {
     "data": {
      "text/plain": [
       "age_group\n",
       "25-34    1498\n",
       "35-45    1273\n",
       "21-24     691\n",
       "45+       538\n",
       "Name: customer_id, dtype: int64"
      ]
     },
     "execution_count": 15,
     "metadata": {},
     "output_type": "execute_result"
    }
   ],
   "source": [
    "# Number of customer belongs to age group\n",
    "df_cust.groupby(\"age_group\")[\"customer_id\"].count().sort_values(ascending=False)"
   ]
  },
  {
   "cell_type": "code",
   "execution_count": 16,
   "metadata": {},
   "outputs": [
    {
     "data": {
      "text/html": [
       "<div>\n",
       "<style scoped>\n",
       "    .dataframe tbody tr th:only-of-type {\n",
       "        vertical-align: middle;\n",
       "    }\n",
       "\n",
       "    .dataframe tbody tr th {\n",
       "        vertical-align: top;\n",
       "    }\n",
       "\n",
       "    .dataframe thead th {\n",
       "        text-align: right;\n",
       "    }\n",
       "</style>\n",
       "<table border=\"1\" class=\"dataframe\">\n",
       "  <thead>\n",
       "    <tr style=\"text-align: right;\">\n",
       "      <th></th>\n",
       "      <th>avg_income</th>\n",
       "    </tr>\n",
       "    <tr>\n",
       "      <th>age_group</th>\n",
       "      <th></th>\n",
       "    </tr>\n",
       "  </thead>\n",
       "  <tbody>\n",
       "    <tr>\n",
       "      <th>45+</th>\n",
       "      <td>61047.57</td>\n",
       "    </tr>\n",
       "    <tr>\n",
       "      <th>35-45</th>\n",
       "      <td>53425.95</td>\n",
       "    </tr>\n",
       "    <tr>\n",
       "      <th>25-34</th>\n",
       "      <td>51827.08</td>\n",
       "    </tr>\n",
       "    <tr>\n",
       "      <th>21-24</th>\n",
       "      <td>40718.27</td>\n",
       "    </tr>\n",
       "  </tbody>\n",
       "</table>\n",
       "</div>"
      ],
      "text/plain": [
       "           avg_income\n",
       "age_group            \n",
       "45+          61047.57\n",
       "35-45        53425.95\n",
       "25-34        51827.08\n",
       "21-24        40718.27"
      ]
     },
     "execution_count": 16,
     "metadata": {},
     "output_type": "execute_result"
    }
   ],
   "source": [
    "# average income to age groups\n",
    "round(df_cust.pivot_table(values=\"avg_income\",index=\"age_group\",aggfunc=\"mean\"),2).sort_values(by=\"avg_income\",ascending=False) "
   ]
  },
  {
   "cell_type": "markdown",
   "metadata": {},
   "source": [
    "Here we can see a clear difference between age group of (21-24) to (45+) as expected.But no noticeable Difference between (25-34) and (35-45)"
   ]
  },
  {
   "cell_type": "markdown",
   "metadata": {},
   "source": [
    "Merge two DataFrame on Customer ID for batter understanding"
   ]
  },
  {
   "cell_type": "code",
   "execution_count": 17,
   "metadata": {},
   "outputs": [],
   "source": [
    "# Avg. spend by age groups\n",
    "Merged_df = df_cust.merge(df_spend,on=\"customer_id\")\n"
   ]
  },
  {
   "cell_type": "code",
   "execution_count": 18,
   "metadata": {},
   "outputs": [],
   "source": [
    "# Add a column to the Merged_df to calculate avg_monthly_spend\n",
    "Merged_df[\"Avg_monthly_spend\"] = (df_spend[\"spend\"])/(4000*6)"
   ]
  },
  {
   "cell_type": "code",
   "execution_count": 19,
   "metadata": {},
   "outputs": [
    {
     "data": {
      "text/plain": [
       "age_group\n",
       "25-34    8276.294542\n",
       "35-45    7035.850125\n",
       "21-24    3810.629542\n",
       "45+      2997.965583\n",
       "Name: Avg_monthly_spend, dtype: float64"
      ]
     },
     "execution_count": 19,
     "metadata": {},
     "output_type": "execute_result"
    }
   ],
   "source": [
    "Merged_df.groupby(\"age_group\")[\"Avg_monthly_spend\"].sum().sort_values(ascending=False)\n"
   ]
  },
  {
   "cell_type": "markdown",
   "metadata": {},
   "source": [
    "It looks like indivisuals in the 25-35 and 35-45 age groups are the like to spend more.But indivisuals in 45+ age group are lowest spender though they are the highers earning group."
   ]
  },
  {
   "cell_type": "code",
   "execution_count": 20,
   "metadata": {},
   "outputs": [
    {
     "data": {
      "text/html": [
       "<div>\n",
       "<style scoped>\n",
       "    .dataframe tbody tr th:only-of-type {\n",
       "        vertical-align: middle;\n",
       "    }\n",
       "\n",
       "    .dataframe tbody tr th {\n",
       "        vertical-align: top;\n",
       "    }\n",
       "\n",
       "    .dataframe thead th {\n",
       "        text-align: right;\n",
       "    }\n",
       "</style>\n",
       "<table border=\"1\" class=\"dataframe\">\n",
       "  <thead>\n",
       "    <tr style=\"text-align: right;\">\n",
       "      <th></th>\n",
       "      <th>avg_income</th>\n",
       "    </tr>\n",
       "    <tr>\n",
       "      <th>city</th>\n",
       "      <th></th>\n",
       "    </tr>\n",
       "  </thead>\n",
       "  <tbody>\n",
       "    <tr>\n",
       "      <th>Hyderabad</th>\n",
       "      <td>52344.81</td>\n",
       "    </tr>\n",
       "    <tr>\n",
       "      <th>Delhi NCR</th>\n",
       "      <td>51982.66</td>\n",
       "    </tr>\n",
       "    <tr>\n",
       "      <th>Mumbai</th>\n",
       "      <td>51720.31</td>\n",
       "    </tr>\n",
       "    <tr>\n",
       "      <th>Chennai</th>\n",
       "      <td>51321.39</td>\n",
       "    </tr>\n",
       "    <tr>\n",
       "      <th>Bengaluru</th>\n",
       "      <td>51073.26</td>\n",
       "    </tr>\n",
       "  </tbody>\n",
       "</table>\n",
       "</div>"
      ],
      "text/plain": [
       "           avg_income\n",
       "city                 \n",
       "Hyderabad    52344.81\n",
       "Delhi NCR    51982.66\n",
       "Mumbai       51720.31\n",
       "Chennai      51321.39\n",
       "Bengaluru    51073.26"
      ]
     },
     "execution_count": 20,
     "metadata": {},
     "output_type": "execute_result"
    }
   ],
   "source": [
    "# find a relation between average income to city\n",
    "round(df_cust.pivot_table(values=\"avg_income\",index=\"city\"),2).sort_values(by=\"avg_income\",ascending=False) "
   ]
  },
  {
   "cell_type": "code",
   "execution_count": 33,
   "metadata": {},
   "outputs": [
    {
     "data": {
      "text/html": [
       "<div>\n",
       "<style scoped>\n",
       "    .dataframe tbody tr th:only-of-type {\n",
       "        vertical-align: middle;\n",
       "    }\n",
       "\n",
       "    .dataframe tbody tr th {\n",
       "        vertical-align: top;\n",
       "    }\n",
       "\n",
       "    .dataframe thead th {\n",
       "        text-align: right;\n",
       "    }\n",
       "</style>\n",
       "<table border=\"1\" class=\"dataframe\">\n",
       "  <thead>\n",
       "    <tr style=\"text-align: right;\">\n",
       "      <th></th>\n",
       "      <th>spend</th>\n",
       "    </tr>\n",
       "    <tr>\n",
       "      <th>city</th>\n",
       "      <th></th>\n",
       "    </tr>\n",
       "  </thead>\n",
       "  <tbody>\n",
       "    <tr>\n",
       "      <th>Mumbai</th>\n",
       "      <td>738.84</td>\n",
       "    </tr>\n",
       "    <tr>\n",
       "      <th>Delhi NCR</th>\n",
       "      <td>693.51</td>\n",
       "    </tr>\n",
       "    <tr>\n",
       "      <th>Bengaluru</th>\n",
       "      <td>616.57</td>\n",
       "    </tr>\n",
       "    <tr>\n",
       "      <th>Hyderabad</th>\n",
       "      <td>527.14</td>\n",
       "    </tr>\n",
       "    <tr>\n",
       "      <th>Chennai</th>\n",
       "      <td>443.38</td>\n",
       "    </tr>\n",
       "  </tbody>\n",
       "</table>\n",
       "</div>"
      ],
      "text/plain": [
       "            spend\n",
       "city             \n",
       "Mumbai     738.84\n",
       "Delhi NCR  693.51\n",
       "Bengaluru  616.57\n",
       "Hyderabad  527.14\n",
       "Chennai    443.38"
      ]
     },
     "execution_count": 33,
     "metadata": {},
     "output_type": "execute_result"
    }
   ],
   "source": [
    "round(Merged_df.pivot_table(values=\"spend\",index=\"city\",aggfunc=\"mean\"),2).sort_values(by=\"spend\",ascending=False) "
   ]
  },
  {
   "cell_type": "markdown",
   "metadata": {},
   "source": [
    "Mumbai is in the top city among others were people like to spnd."
   ]
  },
  {
   "cell_type": "code",
   "execution_count": 22,
   "metadata": {},
   "outputs": [
    {
     "data": {
      "text/html": [
       "<div>\n",
       "<style scoped>\n",
       "    .dataframe tbody tr th:only-of-type {\n",
       "        vertical-align: middle;\n",
       "    }\n",
       "\n",
       "    .dataframe tbody tr th {\n",
       "        vertical-align: top;\n",
       "    }\n",
       "\n",
       "    .dataframe thead th {\n",
       "        text-align: right;\n",
       "    }\n",
       "</style>\n",
       "<table border=\"1\" class=\"dataframe\">\n",
       "  <thead>\n",
       "    <tr style=\"text-align: right;\">\n",
       "      <th></th>\n",
       "      <th>gender</th>\n",
       "      <th>marital status</th>\n",
       "      <th>avg_income</th>\n",
       "    </tr>\n",
       "  </thead>\n",
       "  <tbody>\n",
       "    <tr>\n",
       "      <th>0</th>\n",
       "      <td>Female</td>\n",
       "      <td>Married</td>\n",
       "      <td>54395.0</td>\n",
       "    </tr>\n",
       "    <tr>\n",
       "      <th>1</th>\n",
       "      <td>Female</td>\n",
       "      <td>Single</td>\n",
       "      <td>46294.0</td>\n",
       "    </tr>\n",
       "    <tr>\n",
       "      <th>2</th>\n",
       "      <td>Male</td>\n",
       "      <td>Married</td>\n",
       "      <td>52916.0</td>\n",
       "    </tr>\n",
       "    <tr>\n",
       "      <th>3</th>\n",
       "      <td>Male</td>\n",
       "      <td>Single</td>\n",
       "      <td>46423.0</td>\n",
       "    </tr>\n",
       "  </tbody>\n",
       "</table>\n",
       "</div>"
      ],
      "text/plain": [
       "   gender marital status  avg_income\n",
       "0  Female        Married     54395.0\n",
       "1  Female         Single     46294.0\n",
       "2    Male        Married     52916.0\n",
       "3    Male         Single     46423.0"
      ]
     },
     "execution_count": 22,
     "metadata": {},
     "output_type": "execute_result"
    }
   ],
   "source": [
    "# find a relation between average income to gender and marital status\n",
    "round(df_cust.groupby([\"gender\",\"marital status\"])[\"avg_income\"].median(),2).reset_index()"
   ]
  },
  {
   "cell_type": "markdown",
   "metadata": {},
   "source": [
    "Married People are most likely ot spand more then single People."
   ]
  },
  {
   "cell_type": "code",
   "execution_count": 23,
   "metadata": {},
   "outputs": [
    {
     "data": {
      "text/html": [
       "<div>\n",
       "<style scoped>\n",
       "    .dataframe tbody tr th:only-of-type {\n",
       "        vertical-align: middle;\n",
       "    }\n",
       "\n",
       "    .dataframe tbody tr th {\n",
       "        vertical-align: top;\n",
       "    }\n",
       "\n",
       "    .dataframe thead th {\n",
       "        text-align: right;\n",
       "    }\n",
       "</style>\n",
       "<table border=\"1\" class=\"dataframe\">\n",
       "  <thead>\n",
       "    <tr style=\"text-align: right;\">\n",
       "      <th></th>\n",
       "      <th>spend</th>\n",
       "    </tr>\n",
       "    <tr>\n",
       "      <th>payment_type</th>\n",
       "      <th></th>\n",
       "    </tr>\n",
       "  </thead>\n",
       "  <tbody>\n",
       "    <tr>\n",
       "      <th>Credit Card</th>\n",
       "      <td>216308873</td>\n",
       "    </tr>\n",
       "    <tr>\n",
       "      <th>UPI</th>\n",
       "      <td>140823223</td>\n",
       "    </tr>\n",
       "    <tr>\n",
       "      <th>Debit Card</th>\n",
       "      <td>119557229</td>\n",
       "    </tr>\n",
       "    <tr>\n",
       "      <th>Net Banking</th>\n",
       "      <td>54208430</td>\n",
       "    </tr>\n",
       "  </tbody>\n",
       "</table>\n",
       "</div>"
      ],
      "text/plain": [
       "                  spend\n",
       "payment_type           \n",
       "Credit Card   216308873\n",
       "UPI           140823223\n",
       "Debit Card    119557229\n",
       "Net Banking    54208430"
      ]
     },
     "execution_count": 23,
     "metadata": {},
     "output_type": "execute_result"
    }
   ],
   "source": [
    "# Average spand by pay methods\n",
    "df_spend.pivot_table(values=\"spend\",index=\"payment_type\",aggfunc=\"sum\").sort_values(by=\"spend\",ascending=False) \n"
   ]
  },
  {
   "cell_type": "markdown",
   "metadata": {},
   "source": [
    "Payment By Debit Card, UPI & Debit Card are the Preferred payment Methods."
   ]
  },
  {
   "cell_type": "code",
   "execution_count": 35,
   "metadata": {},
   "outputs": [
    {
     "data": {
      "text/html": [
       "<div>\n",
       "<style scoped>\n",
       "    .dataframe tbody tr th:only-of-type {\n",
       "        vertical-align: middle;\n",
       "    }\n",
       "\n",
       "    .dataframe tbody tr th {\n",
       "        vertical-align: top;\n",
       "    }\n",
       "\n",
       "    .dataframe thead th {\n",
       "        text-align: right;\n",
       "    }\n",
       "</style>\n",
       "<table border=\"1\" class=\"dataframe\">\n",
       "  <thead>\n",
       "    <tr style=\"text-align: right;\">\n",
       "      <th></th>\n",
       "      <th>spend</th>\n",
       "    </tr>\n",
       "    <tr>\n",
       "      <th>category</th>\n",
       "      <th></th>\n",
       "    </tr>\n",
       "  </thead>\n",
       "  <tbody>\n",
       "    <tr>\n",
       "      <th>Bills</th>\n",
       "      <td>104912768</td>\n",
       "    </tr>\n",
       "    <tr>\n",
       "      <th>Groceries</th>\n",
       "      <td>86303761</td>\n",
       "    </tr>\n",
       "    <tr>\n",
       "      <th>Electronics</th>\n",
       "      <td>79562220</td>\n",
       "    </tr>\n",
       "    <tr>\n",
       "      <th>Health &amp; Wellness</th>\n",
       "      <td>65599867</td>\n",
       "    </tr>\n",
       "    <tr>\n",
       "      <th>Travel</th>\n",
       "      <td>59223324</td>\n",
       "    </tr>\n",
       "    <tr>\n",
       "      <th>Food</th>\n",
       "      <td>44013470</td>\n",
       "    </tr>\n",
       "    <tr>\n",
       "      <th>Entertainment</th>\n",
       "      <td>41289162</td>\n",
       "    </tr>\n",
       "    <tr>\n",
       "      <th>Apparel</th>\n",
       "      <td>34036001</td>\n",
       "    </tr>\n",
       "    <tr>\n",
       "      <th>Others</th>\n",
       "      <td>15957182</td>\n",
       "    </tr>\n",
       "  </tbody>\n",
       "</table>\n",
       "</div>"
      ],
      "text/plain": [
       "                       spend\n",
       "category                    \n",
       "Bills              104912768\n",
       "Groceries           86303761\n",
       "Electronics         79562220\n",
       "Health & Wellness   65599867\n",
       "Travel              59223324\n",
       "Food                44013470\n",
       "Entertainment       41289162\n",
       "Apparel             34036001\n",
       "Others              15957182"
      ]
     },
     "execution_count": 35,
     "metadata": {},
     "output_type": "execute_result"
    }
   ],
   "source": [
    "df_spend.pivot_table(values=\"spend\",index=\"category\",aggfunc=\"sum\").sort_values(by=\"spend\",ascending=False) "
   ]
  },
  {
   "cell_type": "code",
   "execution_count": 66,
   "metadata": {},
   "outputs": [
    {
     "data": {
      "text/html": [
       "<div>\n",
       "<style scoped>\n",
       "    .dataframe tbody tr th:only-of-type {\n",
       "        vertical-align: middle;\n",
       "    }\n",
       "\n",
       "    .dataframe tbody tr th {\n",
       "        vertical-align: top;\n",
       "    }\n",
       "\n",
       "    .dataframe thead th {\n",
       "        text-align: right;\n",
       "    }\n",
       "</style>\n",
       "<table border=\"1\" class=\"dataframe\">\n",
       "  <thead>\n",
       "    <tr style=\"text-align: right;\">\n",
       "      <th>category</th>\n",
       "      <th>Apparel</th>\n",
       "      <th>Bills</th>\n",
       "      <th>Electronics</th>\n",
       "      <th>Entertainment</th>\n",
       "      <th>Food</th>\n",
       "      <th>Groceries</th>\n",
       "      <th>Health &amp; Wellness</th>\n",
       "      <th>Others</th>\n",
       "      <th>Travel</th>\n",
       "    </tr>\n",
       "    <tr>\n",
       "      <th>age_group</th>\n",
       "      <th></th>\n",
       "      <th></th>\n",
       "      <th></th>\n",
       "      <th></th>\n",
       "      <th></th>\n",
       "      <th></th>\n",
       "      <th></th>\n",
       "      <th></th>\n",
       "      <th></th>\n",
       "    </tr>\n",
       "  </thead>\n",
       "  <tbody>\n",
       "    <tr>\n",
       "      <th>21-24</th>\n",
       "      <td>671.664677</td>\n",
       "      <td>211.872890</td>\n",
       "      <td>685.839001</td>\n",
       "      <td>911.856971</td>\n",
       "      <td>560.463037</td>\n",
       "      <td>337.971056</td>\n",
       "      <td>380.488061</td>\n",
       "      <td>124.956766</td>\n",
       "      <td>246.766281</td>\n",
       "    </tr>\n",
       "    <tr>\n",
       "      <th>25-34</th>\n",
       "      <td>250.909880</td>\n",
       "      <td>1222.625584</td>\n",
       "      <td>915.724522</td>\n",
       "      <td>354.609006</td>\n",
       "      <td>423.435636</td>\n",
       "      <td>1043.509902</td>\n",
       "      <td>519.039219</td>\n",
       "      <td>170.349438</td>\n",
       "      <td>756.149282</td>\n",
       "    </tr>\n",
       "    <tr>\n",
       "      <th>35-45</th>\n",
       "      <td>336.582581</td>\n",
       "      <td>1377.253109</td>\n",
       "      <td>911.546151</td>\n",
       "      <td>321.718676</td>\n",
       "      <td>470.232685</td>\n",
       "      <td>1036.221033</td>\n",
       "      <td>985.358896</td>\n",
       "      <td>186.958857</td>\n",
       "      <td>613.975746</td>\n",
       "    </tr>\n",
       "    <tr>\n",
       "      <th>45+</th>\n",
       "      <td>278.278423</td>\n",
       "      <td>1190.008984</td>\n",
       "      <td>574.394362</td>\n",
       "      <td>277.948730</td>\n",
       "      <td>397.215304</td>\n",
       "      <td>892.499690</td>\n",
       "      <td>815.107652</td>\n",
       "      <td>158.653113</td>\n",
       "      <td>711.561803</td>\n",
       "    </tr>\n",
       "  </tbody>\n",
       "</table>\n",
       "</div>"
      ],
      "text/plain": [
       "category      Apparel        Bills  Electronics  Entertainment        Food  \\\n",
       "age_group                                                                    \n",
       "21-24      671.664677   211.872890   685.839001     911.856971  560.463037   \n",
       "25-34      250.909880  1222.625584   915.724522     354.609006  423.435636   \n",
       "35-45      336.582581  1377.253109   911.546151     321.718676  470.232685   \n",
       "45+        278.278423  1190.008984   574.394362     277.948730  397.215304   \n",
       "\n",
       "category     Groceries  Health & Wellness      Others      Travel  \n",
       "age_group                                                          \n",
       "21-24       337.971056         380.488061  124.956766  246.766281  \n",
       "25-34      1043.509902         519.039219  170.349438  756.149282  \n",
       "35-45      1036.221033         985.358896  186.958857  613.975746  \n",
       "45+         892.499690         815.107652  158.653113  711.561803  "
      ]
     },
     "execution_count": 66,
     "metadata": {},
     "output_type": "execute_result"
    }
   ],
   "source": [
    "Merged_df.pivot_table(values=\"spend\",index=\"age_group\",columns=\"category\").sort_values(by=\"age_group\")"
   ]
  },
  {
   "cell_type": "code",
   "execution_count": 24,
   "metadata": {},
   "outputs": [
    {
     "data": {
      "image/png": "[encoded data removed]",
      "text/plain": [
       "<Figure size 1200x500 with 2 Axes>"
      ]
     },
     "metadata": {},
     "output_type": "display_data"
    }
   ],
   "source": [
    "fig, ax = plt.subplots(1, 2)\n",
    "fig.set_size_inches((12, 5))\n",
    "df_cust.groupby(\"city\")[\"avg_income\"].mean().sort_values(ascending=False).plot(kind=\"bar\",ax=ax[0],xlabel=\"Avg. Income\")\n",
    "Merged_df.groupby(\"city\")[\"spend\"].mean().sort_values(ascending=False).plot(kind=\"bar\",ax=ax[1],xlabel=\"Avg.Spend\")\n",
    "ax[0].set_xticklabels(ax[0].get_xticklabels(), rotation=30, ha=\"right\")\n",
    "ax[1].set_xticklabels(ax[1].get_xticklabels(), rotation=30, ha=\"right\")\n",
    "fig.suptitle(\"Avg.Income & Avg.Spend by Cityes\", fontsize=12)\n",
    "ax[0].set_ylim(5000, 60000)\n",
    "plt.show()\n"
   ]
  },
  {
   "cell_type": "code",
   "execution_count": 25,
   "metadata": {},
   "outputs": [
    {
     "data": {
      "image/png": "[encoded data removed]",
      "text/plain": [
       "<Figure size 1200x500 with 2 Axes>"
      ]
     },
     "metadata": {},
     "output_type": "display_data"
    }
   ],
   "source": [
    "fig, ax = plt.subplots(1, 2)\n",
    "fig.set_size_inches((12, 5))\n",
    "df_cust.groupby(\"occupation\")[\"avg_income\"].mean().sort_values(ascending=False).plot(kind=\"bar\",ax=ax[0],xlabel=\"Avg. Income\")\n",
    "Merged_df.groupby(\"occupation\")[\"Avg_monthly_spend\"].sum().sort_values(ascending=False).plot(kind=\"bar\",ax=ax[1],xlabel=\"Avg.Spend\")\n",
    "ax[0].set_xticklabels(ax[0].get_xticklabels(), rotation=30, ha=\"right\")\n",
    "ax[1].set_xticklabels(ax[1].get_xticklabels(), rotation=30, ha=\"right\")\n",
    "fig.suptitle(\"Avg.Income & Avg.Spend by Occupation \", fontsize=12)\n",
    "plt.show()"
   ]
  },
  {
   "cell_type": "code",
   "execution_count": 26,
   "metadata": {},
   "outputs": [
    {
     "data": {
      "image/png": "[encoded data removed]",
      "text/plain": [
       "<Figure size 640x480 with 1 Axes>"
      ]
     },
     "metadata": {},
     "output_type": "display_data"
    }
   ],
   "source": [
    "paytype_spend = Merged_df.pivot_table(values=\"Avg_monthly_spend\",index=\"payment_type\",aggfunc=\"sum\").sort_values(by=\"Avg_monthly_spend\")\n",
    "paytype_spend.plot(kind=\"barh\")\n",
    "plt.title(\"Spend Distribution over Payment Type\")\n",
    "plt.legend(\"\")\n",
    "\n",
    "plt.show()"
   ]
  },
  {
   "cell_type": "code",
   "execution_count": 27,
   "metadata": {},
   "outputs": [
    {
     "data": {
      "image/png": "[encoded data removed]",
      "text/plain": [
       "<Figure size 1200x500 with 2 Axes>"
      ]
     },
     "metadata": {},
     "output_type": "display_data"
    }
   ],
   "source": [
    "fig, ax = plt.subplots(1, 2)\n",
    "fig.set_size_inches((12, 5))\n",
    "df_cust.groupby(\"age_group\")[\"avg_income\"].mean().sort_values(ascending=False).plot(kind=\"bar\",ax=ax[0],xlabel=\"Avg. Income\")\n",
    "Merged_df.groupby(\"age_group\")[\"Avg_monthly_spend\"].sum().sort_values(ascending=False).plot(kind=\"bar\",ax=ax[1],xlabel=\"Avg.Spend\")\n",
    "ax[0].set_xticklabels(ax[0].get_xticklabels(), rotation=0, ha=\"center\")\n",
    "ax[1].set_xticklabels(ax[1].get_xticklabels(), rotation=0, ha=\"center\")\n",
    "fig.suptitle(\"Avg.Income & Avg.Spend by Age Group \", fontsize=12)\n",
    "plt.show()"
   ]
  },
  {
   "cell_type": "code",
   "execution_count": 28,
   "metadata": {},
   "outputs": [
    {
     "data": {
      "image/png": "[encoded data removed]",
      "text/plain": [
       "<Figure size 640x480 with 1 Axes>"
      ]
     },
     "metadata": {},
     "output_type": "display_data"
    }
   ],
   "source": [
    "spend_by_category = round(df_spend.pivot_table(values=\"spend\",index=\"category\").sort_values(by=\"spend\",ascending=True),2)\n",
    "spend_by_category.plot(kind=\"barh\")\n",
    "plt.title(\"Spending trends by Category\")\n",
    "plt.legend(\"\")\n",
    "plt.show()"
   ]
  },
  {
   "cell_type": "code",
   "execution_count": null,
   "metadata": {},
   "outputs": [],
   "source": []
  }
 ],
 "metadata": {
  "kernelspec": {
   "display_name": "pyproject",
   "language": "python",
   "name": "python3"
  },
  "language_info": {
   "codemirror_mode": {
    "name": "ipython",
    "version": 3
   },
   "file_extension": ".py",
   "mimetype": "text/x-python",
   "name": "python",
   "nbconvert_exporter": "python",
   "pygments_lexer": "ipython3",
   "version": "3.11.9"
  }
 },
 "nbformat": 4,
 "nbformat_minor": 2
}
